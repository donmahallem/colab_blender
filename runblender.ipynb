{
  "nbformat": 4,
  "nbformat_minor": 0,
  "metadata": {
    "colab": {
      "name": "Copy of runblender_final_node_1.ipynb",
      "provenance": [],
      "collapsed_sections": []
    },
    "kernelspec": {
      "name": "python3",
      "display_name": "Python 3"
    },
    "accelerator": "GPU"
  },
  "cells": [
    {
      "cell_type": "markdown",
      "metadata": {
        "id": "vdWkwAMYN52S",
        "colab_type": "text"
      },
      "source": [
        "Google Drive Mount"
      ]
    },
    {
      "cell_type": "code",
      "metadata": {
        "id": "QRzNmiHN8Xr0",
        "colab_type": "code",
        "colab": {
          "base_uri": "https://localhost:8080/",
          "height": 129
        },
        "outputId": "31e4153e-4d3b-4ef9-d122-f793a10a3afc"
      },
      "source": [
        "from google.colab import drive\n",
        "drive.mount('/gdrive')"
      ],
      "execution_count": 1,
      "outputs": [
        {
          "output_type": "stream",
          "text": [
            "Go to this URL in a browser: https://accounts.google.com/o/oauth2/auth?client_id=947318989803-6bn6qk8qdgf4n4g3pfee6491hc0brc4i.apps.googleusercontent.com&redirect_uri=urn%3aietf%3awg%3aoauth%3a2.0%3aoob&response_type=code&scope=email%20https%3a%2f%2fwww.googleapis.com%2fauth%2fdocs.test%20https%3a%2f%2fwww.googleapis.com%2fauth%2fdrive%20https%3a%2f%2fwww.googleapis.com%2fauth%2fdrive.photos.readonly%20https%3a%2f%2fwww.googleapis.com%2fauth%2fpeopleapi.readonly\n",
            "\n",
            "Enter your authorization code:\n",
            "··········\n",
            "Mounted at /gdrive\n"
          ],
          "name": "stdout"
        }
      ]
    },
    {
      "cell_type": "code",
      "metadata": {
        "id": "-k1aZjWTOmFj",
        "colab_type": "code",
        "colab": {}
      },
      "source": [
        "#@Project details\n",
        "\n",
        "name_of_the_project = \"arya_sword\"  #@param {type: \"string\"}\n",
        "run_type = \"Single\" #@param [\"Single\", \"Animation\"]\n",
        "single_frame_number = 1  #@param {type: \"integer\"}\n",
        "start_frame = 0  #@param {type: \"integer\"}\n",
        "end_frame = 142  #@param {type: \"integer\"}\n",
        "input_project_file = name_of_the_project + \".blend\"\n",
        "output_project_file = name_of_the_project + \"png\"\n",
        "Render_samples_count = 128 #@param {type:\"number\"}\n",
        "Adaptive_sampling = True #@param {type:\"boolean\"}\n",
        "Motion_blur = True #@param {type:\"boolean\"}\n",
        "Film_transparency = False #@param {type:\"boolean\"}\n",
        "output_image_format = \"PNG\" #@param [\"BMP\", \"Iris\", \"PNG\", \"JPEG\", \"JPEG 2000\", \"TIFF\"] {allow-input: true}\n",
        "\n",
        "#@markdown ---\n"
      ],
      "execution_count": 2,
      "outputs": []
    },
    {
      "cell_type": "markdown",
      "metadata": {
        "id": "Pm6N-sBbNrPu",
        "colab_type": "text"
      },
      "source": [
        "Downloading Blender 2.82"
      ]
    },
    {
      "cell_type": "code",
      "metadata": {
        "id": "GPJ9fmoB6PWM",
        "colab_type": "code",
        "colab": {}
      },
      "source": [
        "!wget -nc https://ftp.halifax.rwth-aachen.de/blender/release/Blender2.82/blender-2.82-linux64.tar.xz"
      ],
      "execution_count": null,
      "outputs": []
    },
    {
      "cell_type": "markdown",
      "metadata": {
        "id": "UUwwvaq5BxzN",
        "colab_type": "text"
      },
      "source": [
        "Unpack and move blender"
      ]
    },
    {
      "cell_type": "code",
      "metadata": {
        "id": "lbQgtOme6qTJ",
        "colab_type": "code",
        "colab": {}
      },
      "source": [
        "!tar -xf ./blender-2.82-linux64.tar.xz\n",
        "!mv ./blender-2.82-linux64.tar.xz ./blender282"
      ],
      "execution_count": 4,
      "outputs": []
    },
    {
      "cell_type": "code",
      "metadata": {
        "id": "RU3p_G4hDk97",
        "colab_type": "code",
        "colab": {}
      },
      "source": [
        "!apt install libboost-all-dev\n",
        "!apt install libgl1-mesa-dev\n",
        "!apt install libglu1-mesa libsm-dev"
      ],
      "execution_count": null,
      "outputs": []
    },
    {
      "cell_type": "markdown",
      "metadata": {
        "id": "Wh4i8msvAanq",
        "colab_type": "text"
      },
      "source": [
        "Required for Blender to use the GPU as expected"
      ]
    },
    {
      "cell_type": "code",
      "metadata": {
        "id": "30Tv3lIeVaC6",
        "colab_type": "code",
        "colab": {}
      },
      "source": [
        "data = \"import re\\n\"+\\\n",
        "    \"import bpy\\n\"+\\\n",
        "    \"scene = bpy.context.scene\\n\"+\\\n",
        "    \"scene.cycles.device = 'GPU'\\n\"+\\\n",
        "    \"prefs = bpy.context.preferences\\n\"+\\\n",
        "    \"prefs.addons['cycles'].preferences.get_devices()\\n\"+\\\n",
        "    \"cprefs = prefs.addons['cycles'].preferences\\n\"+\\\n",
        "    \"print(cprefs)\\n\"+\\\n",
        "    \"# Attempt to set GPU device types if available\\n\"+\\\n",
        "    \"for compute_device_type in ('CUDA', 'OPENCL', 'NONE'):\\n\"+\\\n",
        "    \"    try:\\n\"+\\\n",
        "    \"        cprefs.compute_device_type = compute_device_type\\n\"+\\\n",
        "    \"        print('Device found',compute_device_type)\\n\"+\\\n",
        "    \"        break\\n\"+\\\n",
        "    \"    except TypeError:\\n\"+\\\n",
        "    \"        pass\\n\"+\\\n",
        "    \"# Enable all CPU and GPU devices\\n\"+\\\n",
        "    \"for device in cprefs.devices:\\n\"+\\\n",
        "    \"    if not re.match('intel', device.name, re.I):\\n\"+\\\n",
        "    \"        print('Activating',device)\\n\"+\\\n",
        "    \"        device.use = True\\n\"+\\\n",
        "    \"scene.cycles.samples = \"\n",
        "   \n",
        "data1 = \"\\n\"+\\\n",
        "    \"scene.cycles.use_adaptive_sampling =\"  \n",
        "data2 = \"\\n\"+ \\\n",
        "    \"scene.render.use_motion_blur = \" \n",
        "    \n",
        "data3 = \"\\n\"+\\\n",
        "    \"scene.render.film_transparent = \"\n",
        "    \n",
        "data4 =  \"\\n\" +\\\n",
        "    \"scene.frame_start = \" \n",
        "    \n",
        "data5 =  \"\\n\" +\\\n",
        "    \"scene.frame_end = \" \n",
        "    \n",
        "data6 = \"\\n\" +\\\n",
        "    \"bpy.context.scene.render.image_settings.file_format =\" +  output_image_format + \"\\n\"\n",
        "\n",
        "with open('setgpu.py', 'w') as f:\n",
        "    f.write(data + str(Render_samples_count) \\\n",
        "            + data1 + str(Adaptive_sampling) +\\\n",
        "            data2 + str(Motion_blur) + data3 + \\\n",
        "            str(Film_transparency) + data4\\\n",
        "            + str(start_frame) + data5 \\\n",
        "            + str(end_frame) + data6 + str(output_image_format) + \"\\n\"  )"
      ],
      "execution_count": 6,
      "outputs": []
    },
    {
      "cell_type": "markdown",
      "metadata": {
        "id": "_HoAUHQNOAgq",
        "colab_type": "text"
      },
      "source": [
        "To render a single frame delete the # in front of the command below\n",
        "\n"
      ]
    },
    {
      "cell_type": "code",
      "metadata": {
        "id": "cRwDebU4sP0f",
        "colab_type": "code",
        "colab": {}
      },
      "source": [
        "!sudo ./blender-2.82-linux64/blender -P setgpu.py -b '/gdrive/My Drive/Project X/'$input_project_file -E CYCLES -o '/gdrive/My Drive/Project X/'$output_project_file  -f $single_frame_number"
      ],
      "execution_count": null,
      "outputs": []
    },
    {
      "cell_type": "markdown",
      "metadata": {
        "id": "PP4DzhYICKsk",
        "colab_type": "text"
      },
      "source": [
        "For all frames"
      ]
    },
    {
      "cell_type": "code",
      "metadata": {
        "id": "VFVx8omJCGBN",
        "colab_type": "code",
        "colab": {}
      },
      "source": [
        "!sudo ./blender-2.82-linux64/blender -P setgpu.py -b '/gdrive/My Drive/Project X/'$input_project_file -E CYCLES -o '/gdrive/My Drive/Project X/PNGS for video'$output_project_file  -s $start_frame -e $end_frame -a"
      ],
      "execution_count": null,
      "outputs": []
    }
  ]
}
